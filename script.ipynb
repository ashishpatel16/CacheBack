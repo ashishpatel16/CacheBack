{
 "cells": [
  {
   "cell_type": "code",
   "execution_count": 1,
   "metadata": {},
   "outputs": [],
   "source": [
    "import psycopg2\n",
    "import pandas as pd\n",
    "import time \n",
    "from cacheback import cache_back\n",
    "from sqlalchemy import create_engine"
   ]
  },
  {
   "cell_type": "code",
   "execution_count": 2,
   "metadata": {},
   "outputs": [],
   "source": [
    "DB_NAME = \"reviews\"\n",
    "DB_USER = \"admin\"\n",
    "DB_PASS = \"root\"\n",
    "DB_HOST = \"postgres-database\"\n",
    "DB_PORT = 5432"
   ]
  },
  {
   "cell_type": "code",
   "execution_count": 5,
   "metadata": {},
   "outputs": [
    {
     "name": "stdout",
     "output_type": "stream",
     "text": [
      "Error : could not translate host name \"postgres-database\" to address: Temporary failure in name resolution\n",
      "\n"
     ]
    }
   ],
   "source": [
    "try:\n",
    "    start_time = time.time()\n",
    "    \n",
    "    cache_back.init_session(DB_NAME,DB_USER, DB_PASS, DB_HOST, DB_PORT)\n",
    "    conn_string = f\"postgresql://{DB_USER}:{DB_PASS}@{DB_HOST}:{DB_PORT}/{DB_NAME}\"\n",
    "    print(conn_string)\n",
    "    db = create_engine(conn_string)\n",
    "    conn = db.connect()\n",
    "\n",
    "    df = pd.read_sql('reviews_data', conn)\n",
    "\n",
    "    df.drop(['profilename'], inplace=True,  axis=1)\n",
    "    print(df.head())\n",
    "    cache_back.add_to_cache(df, 'df_dropped')\n",
    "\n",
    "    end_time = time.time()\n",
    "    \n",
    "    print(f\"***** Completed in {(end_time-start_time)} seconds. Dataframe shape : {df.shape}\")\n",
    "\n",
    "except Exception as e:\n",
    "    print(f\"Error : {e.args[0]}\")\n"
   ]
  },
  {
   "cell_type": "code",
   "execution_count": null,
   "metadata": {},
   "outputs": [],
   "source": []
  }
 ],
 "metadata": {
  "kernelspec": {
   "display_name": "Python 3",
   "language": "python",
   "name": "python3"
  },
  "language_info": {
   "codemirror_mode": {
    "name": "ipython",
    "version": 3
   },
   "file_extension": ".py",
   "mimetype": "text/x-python",
   "name": "python",
   "nbconvert_exporter": "python",
   "pygments_lexer": "ipython3",
   "version": "3.10.6 (main, Nov 14 2022, 16:10:14) [GCC 11.3.0]"
  },
  "vscode": {
   "interpreter": {
    "hash": "916dbcbb3f70747c44a77c7bcd40155683ae19c65e1c03b4aa3499c5328201f1"
   }
  }
 },
 "nbformat": 4,
 "nbformat_minor": 2
}
