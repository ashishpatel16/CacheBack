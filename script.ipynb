{
 "cells": [
  {
   "cell_type": "code",
   "execution_count": 3,
   "metadata": {},
   "outputs": [],
   "source": [
    "import psycopg2\n",
    "import pandas as pd\n",
    "import time \n",
    "from cacheback import cache_back"
   ]
  },
  {
   "cell_type": "code",
   "execution_count": 4,
   "metadata": {},
   "outputs": [],
   "source": [
    "DB_NAME = \"reviews\"\n",
    "DB_USER = \"admin\"\n",
    "DB_PASS = \"root\"\n",
    "DB_HOST = \"postgres-database\"\n",
    "DB_PORT = 5432"
   ]
  },
  {
   "cell_type": "code",
   "execution_count": 5,
   "metadata": {},
   "outputs": [
    {
     "name": "stdout",
     "output_type": "stream",
     "text": [
      "Error : could not translate host name \"postgres-database\" to address: Temporary failure in name resolution\n",
      "\n"
     ]
    },
    {
     "data": {
      "text/plain": [
       "'\\nStep 1 : Load data from RDBMS into dataframe.\\nStep 2 : Perform some data manipulations (Adding or droppinng columns or normalising them). Send the .ipynb file on to server.\\n            2.1. Take the ipynb file, parse json and build the complete code into a single string.\\n            2.2. Append the headers and footers as per the CREATE FUNCTION construct for plpython.\\n            2.3. Execute the query generated for plpython, triggered from client machine.\\nStep 3 : Convert the .ipynb file on server into a .db file using dill. - not now\\nStep 4 : Save results on a separate table. \\nStep 5 : Retrieve results from database\\n'"
      ]
     },
     "execution_count": 5,
     "metadata": {},
     "output_type": "execute_result"
    }
   ],
   "source": [
    "try:\n",
    "    start_time = time.time()\n",
    "    conn = psycopg2.connect(database=DB_NAME,\n",
    "                            user=DB_USER,\n",
    "                            password=DB_PASS,\n",
    "                            host=DB_HOST,\n",
    "                            port=DB_PORT)\n",
    "\n",
    "    print(\"Database connected successfully\")\n",
    "    cache_back.init_session(DB_NAME,DB_USER, DB_PASS, DB_HOST, DB_PORT)\n",
    "\n",
    "    fetch_query = f\"SELECT * FROM reviews_data\"\n",
    "    fetch_columns_query = \"SELECT column_name FROM information_schema.columns WHERE table_name = \\\"reviews_data\\\"\"\n",
    "    \n",
    "    column_names = []\n",
    "    cur = conn.cursor()\n",
    "    cur.execute(fetch_columns_query)\n",
    "\n",
    "    # Fetch column names from the table for our pandas dataframe\n",
    "    for s in cur.fetchall():\n",
    "        column_names.append(s[0])\n",
    "\n",
    "    # Fetch actual data from postgres and instantiate DataFrame\n",
    "    cur.execute(fetch_query)\n",
    "    res = cur.fetchall()\n",
    "    df = pd.DataFrame(res, columns=column_names)\n",
    "    df.drop(['profilename'], inplace=True,  axis=1)\n",
    "    print(df.head())\n",
    "    cache_back.add_to_cache(df, 'df_dropped')\n",
    "\n",
    "    cur.close()\n",
    "    conn.close()\n",
    "    end_time = time.time()\n",
    "    \n",
    "    print(f\"***** Completed in {(end_time-start_time)} seconds. Dataframe shape : {df.shape}\")\n",
    "\n",
    "except Exception as e:\n",
    "    print(f\"Error : {e.args[0]}\")\n"
   ]
  }
 ],
 "metadata": {
  "kernelspec": {
   "display_name": "Python 3",
   "language": "python",
   "name": "python3"
  },
  "language_info": {
   "codemirror_mode": {
    "name": "ipython",
    "version": 3
   },
   "file_extension": ".py",
   "mimetype": "text/x-python",
   "name": "python",
   "nbconvert_exporter": "python",
   "pygments_lexer": "ipython3",
   "version": "3.10.6 (main, Nov 14 2022, 16:10:14) [GCC 11.3.0]"
  },
  "vscode": {
   "interpreter": {
    "hash": "916dbcbb3f70747c44a77c7bcd40155683ae19c65e1c03b4aa3499c5328201f1"
   }
  }
 },
 "nbformat": 4,
 "nbformat_minor": 2
}
