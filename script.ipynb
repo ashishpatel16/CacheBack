{
 "cells": [
  {
   "cell_type": "code",
   "execution_count": 8,
   "metadata": {},
   "outputs": [],
   "source": [
    "import psycopg2\n",
    "import pandas as pd\n",
    "import time \n",
    "#from cacheback2 import cache_back"
   ]
  },
  {
   "cell_type": "code",
   "execution_count": 9,
   "metadata": {},
   "outputs": [],
   "source": [
    "DB_NAME = \"reviews\"\n",
    "DB_USER = \"admin\"\n",
    "DB_PASS = \"root\"\n",
    "DB_HOST = \"localhost\"\n",
    "DB_PORT = 5432"
   ]
  },
  {
   "cell_type": "code",
   "execution_count": 19,
   "metadata": {},
   "outputs": [
    {
     "name": "stdout",
     "output_type": "stream",
     "text": [
      "Database connected successfully\n",
      "   index                                       ratingsCount  \\\n",
      "0      0                     Its Only Art If Its Well Hung!   \n",
      "1      1                           Dr. Seuss: American Icon   \n",
      "2      2              Wonderful Worship in Smaller Churches   \n",
      "3      3                      Whispers of the Wicked Saints   \n",
      "4      4  Nation Dance: Religion, Identity and Cultural ...   \n",
      "\n",
      "                                         description              authors  \\\n",
      "0                                               None     ['Julie Strain']   \n",
      "1  Philip Nel takes a fascinating look into the k...       ['Philip Nel']   \n",
      "2  This resource includes twelve principles in un...     ['David R. Ray']   \n",
      "3  Julia Thomas finds her life spinning out of co...  ['Veronica Haddon']   \n",
      "4                                               None      ['Edward Long']   \n",
      "\n",
      "                                               image  publisher publishedDate  \\\n",
      "0  http://books.google.com/books/content?id=DykPA...       None          1996   \n",
      "1  http://books.google.com/books/content?id=IjvHQ...  A&C Black    2005-01-01   \n",
      "2  http://books.google.com/books/content?id=2tsDA...       None          2000   \n",
      "3  http://books.google.com/books/content?id=aRSIg...  iUniverse       2005-02   \n",
      "4                                               None       None    2003-03-01   \n",
      "\n",
      "                                            infoLink  \\\n",
      "0  http://books.google.nl/books?id=DykPAAAACAAJ&d...   \n",
      "1  http://books.google.nl/books?id=IjvHQsCn_pgC&d...   \n",
      "2  http://books.google.nl/books?id=2tsDAAAACAAJ&d...   \n",
      "3  http://books.google.nl/books?id=aRSIgJlq6JwC&d...   \n",
      "4  http://books.google.nl/books?id=399SPgAACAAJ&d...   \n",
      "\n",
      "                      categories  Title  \n",
      "0    ['Comics & Graphic Novels']    NaN  \n",
      "1  ['Biography & Autobiography']    NaN  \n",
      "2                   ['Religion']    NaN  \n",
      "3                    ['Fiction']    NaN  \n",
      "4                           None    NaN  \n",
      "***** Completed in 3.37943696975708 seconds. Dataframe shape : (212404, 10)\n"
     ]
    }
   ],
   "source": [
    "try:\n",
    "    start_time = time.time()\n",
    "    conn = psycopg2.connect(database=DB_NAME,\n",
    "                            user=DB_USER,\n",
    "                            password=DB_PASS,\n",
    "                            host=DB_HOST,\n",
    "                            port=DB_PORT)\n",
    "\n",
    "    print(\"Database connected successfully\")\n",
    "    \n",
    "    #cache_back.init_session(DB_NAME,DB_USER, DB_PASS, DB_HOST, DB_PORT)\n",
    "\n",
    "    fetch_query = \"SELECT * FROM reviews_data\"\n",
    "    fetch_columns_query = fetch_columns_query = '''\n",
    "    SELECT COLUMN_NAME \n",
    "    FROM INFORMATION_SCHEMA.COLUMNS\n",
    "    WHERE TABLE_NAME = 'reviews_data'\n",
    "    '''\n",
    "    \n",
    "    column_names = []\n",
    "    cur = conn.cursor()\n",
    "    cur.execute(fetch_columns_query)\n",
    "\n",
    "    # Fetch column names from the table for our pandas dataframe\n",
    "    for s in cur.fetchall():\n",
    "        column_names.append(s[0])\n",
    "\n",
    "    # Fetch actual data from postgres and instantiate DataFrame\n",
    "    cur.execute(fetch_query)\n",
    "    res = cur.fetchall()\n",
    "    df = pd.DataFrame(res, columns=column_names)\n",
    "    df.drop(['previewLink'], inplace=True,  axis=1)\n",
    "    print(df.head())\n",
    "    #cache_back.add_to_cache(df, 'df_dropped')\n",
    "\n",
    "    cur.close()\n",
    "    conn.close()\n",
    "    end_time = time.time()\n",
    "    \n",
    "    print(f\"***** Completed in {(end_time-start_time)} seconds. Dataframe shape : {df.shape}\")\n",
    "\n",
    "except Exception as e:\n",
    "    print(f\"Error : {e.args[0]}\")\n"
   ]
  }
 ],
 "metadata": {
  "kernelspec": {
   "display_name": "dpp",
   "language": "python",
   "name": "python3"
  },
  "language_info": {
   "codemirror_mode": {
    "name": "ipython",
    "version": 3
   },
   "file_extension": ".py",
   "mimetype": "text/x-python",
   "name": "python",
   "nbconvert_exporter": "python",
   "pygments_lexer": "ipython3",
   "version": "3.9.15"
  },
  "vscode": {
   "interpreter": {
    "hash": "cab895ee229bc949769f3e0e3abdce04bc131c1f2fdfe89f07a87e8ec96f9507"
   }
  }
 },
 "nbformat": 4,
 "nbformat_minor": 2
}
